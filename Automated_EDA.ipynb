{
 "cells": [
  {
   "cell_type": "markdown",
   "id": "08d96a86",
   "metadata": {},
   "source": [
    "## Automate EDA "
   ]
  },
  {
   "cell_type": "markdown",
   "id": "a739606d",
   "metadata": {},
   "source": [
    "### 1. pandas_profiling"
   ]
  },
  {
   "cell_type": "code",
   "execution_count": null,
   "id": "02dba51f",
   "metadata": {},
   "outputs": [],
   "source": [
    "!pip install pandas_profiling"
   ]
  },
  {
   "cell_type": "code",
   "execution_count": null,
   "id": "7a19eeef",
   "metadata": {},
   "outputs": [],
   "source": [
    "import pandas_profiling"
   ]
  },
  {
   "cell_type": "code",
   "execution_count": null,
   "id": "a6ec28b5",
   "metadata": {},
   "outputs": [],
   "source": [
    "import seaborn as sns"
   ]
  },
  {
   "cell_type": "code",
   "execution_count": null,
   "id": "35e98406",
   "metadata": {},
   "outputs": [],
   "source": [
    "df=sns.load_dataset('tips')"
   ]
  },
  {
   "cell_type": "code",
   "execution_count": null,
   "id": "45658699",
   "metadata": {},
   "outputs": [],
   "source": [
    "from pandas_profiling import ProfileReport"
   ]
  },
  {
   "cell_type": "code",
   "execution_count": null,
   "id": "e56f2c5d",
   "metadata": {},
   "outputs": [],
   "source": [
    "profile = ProfileReport(df,explorative=True,dark_mode=True)"
   ]
  },
  {
   "cell_type": "code",
   "execution_count": null,
   "id": "dc024eef",
   "metadata": {},
   "outputs": [],
   "source": [
    "profile.to_file('output.html')"
   ]
  },
  {
   "cell_type": "markdown",
   "id": "bbb2b535",
   "metadata": {},
   "source": [
    "### 2. dtale"
   ]
  },
  {
   "cell_type": "code",
   "execution_count": null,
   "id": "2d8df19c",
   "metadata": {},
   "outputs": [],
   "source": [
    "#dtale\n",
    "!pip install dtale "
   ]
  },
  {
   "cell_type": "code",
   "execution_count": null,
   "id": "5145faa4",
   "metadata": {},
   "outputs": [],
   "source": [
    "import dtale"
   ]
  },
  {
   "cell_type": "code",
   "execution_count": null,
   "id": "17774dcc",
   "metadata": {},
   "outputs": [],
   "source": [
    "import pandas as pd\n",
    "import seaborn as sns\n"
   ]
  },
  {
   "cell_type": "code",
   "execution_count": null,
   "id": "1d924fe7",
   "metadata": {},
   "outputs": [],
   "source": [
    "df = sns.load_dataset('titanic')"
   ]
  },
  {
   "cell_type": "code",
   "execution_count": null,
   "id": "378aa187",
   "metadata": {},
   "outputs": [],
   "source": [
    "dtale.show(df)"
   ]
  },
  {
   "cell_type": "markdown",
   "id": "b64a3f06",
   "metadata": {},
   "source": [
    "### 3. sweetviz"
   ]
  },
  {
   "cell_type": "code",
   "execution_count": null,
   "id": "d217f926",
   "metadata": {
    "scrolled": true
   },
   "outputs": [],
   "source": [
    "!pip install sweetviz"
   ]
  },
  {
   "cell_type": "code",
   "execution_count": null,
   "id": "9cea57e7",
   "metadata": {},
   "outputs": [],
   "source": [
    "import sweetviz as sv"
   ]
  },
  {
   "cell_type": "code",
   "execution_count": null,
   "id": "b0e1bbc9",
   "metadata": {},
   "outputs": [],
   "source": [
    "report = sv.analyze(df)"
   ]
  },
  {
   "cell_type": "code",
   "execution_count": null,
   "id": "d2a7924b",
   "metadata": {},
   "outputs": [],
   "source": [
    "report.show_html('newreport.html')"
   ]
  },
  {
   "cell_type": "markdown",
   "id": "793e82fb",
   "metadata": {},
   "source": [
    "### 4. dataprep"
   ]
  },
  {
   "cell_type": "code",
   "execution_count": null,
   "id": "021a9dd5",
   "metadata": {},
   "outputs": [],
   "source": [
    "!pip install dataprep"
   ]
  },
  {
   "cell_type": "code",
   "execution_count": null,
   "id": "2e821b1f",
   "metadata": {},
   "outputs": [],
   "source": [
    "import seaborn as sns \n",
    "df = sns.load_dataset('titanic')"
   ]
  },
  {
   "cell_type": "code",
   "execution_count": null,
   "id": "b9302a7d",
   "metadata": {},
   "outputs": [],
   "source": [
    "from dataprep.eda import create_report\n",
    "create_report(df)"
   ]
  },
  {
   "cell_type": "markdown",
   "id": "8a1910e2",
   "metadata": {},
   "source": [
    "### 5. lux(paid)"
   ]
  },
  {
   "cell_type": "code",
   "execution_count": null,
   "id": "59e2c243",
   "metadata": {},
   "outputs": [],
   "source": [
    "!pip install lux"
   ]
  },
  {
   "cell_type": "code",
   "execution_count": null,
   "id": "f7ca5d5b",
   "metadata": {},
   "outputs": [],
   "source": [
    "import lux\n",
    "import pandas as pd"
   ]
  },
  {
   "cell_type": "code",
   "execution_count": null,
   "id": "68582d19",
   "metadata": {},
   "outputs": [],
   "source": [
    "df = pd.read_csv(\"https://raw.githubusercontent.com/lux-org/lux-datasets/master/data/college.csv\")\n",
    "df.head()"
   ]
  },
  {
   "cell_type": "markdown",
   "id": "f359b6f4",
   "metadata": {},
   "source": [
    "### 6. pandas_visual_analysis"
   ]
  },
  {
   "cell_type": "code",
   "execution_count": null,
   "id": "00903b6e",
   "metadata": {},
   "outputs": [],
   "source": [
    "!pip install pandas_visual_analysis"
   ]
  },
  {
   "cell_type": "code",
   "execution_count": null,
   "id": "61a4fc79",
   "metadata": {},
   "outputs": [],
   "source": [
    "from pandas_visual_analysis import VisualAnalysis\n",
    "VisualAnalysis(df)"
   ]
  },
  {
   "cell_type": "code",
   "execution_count": null,
   "id": "6a5d3c10",
   "metadata": {},
   "outputs": [],
   "source": []
  }
 ],
 "metadata": {
  "kernelspec": {
   "display_name": "Python 3 (ipykernel)",
   "language": "python",
   "name": "python3"
  },
  "language_info": {
   "codemirror_mode": {
    "name": "ipython",
    "version": 3
   },
   "file_extension": ".py",
   "mimetype": "text/x-python",
   "name": "python",
   "nbconvert_exporter": "python",
   "pygments_lexer": "ipython3",
   "version": "3.10.9"
  }
 },
 "nbformat": 4,
 "nbformat_minor": 5
}
